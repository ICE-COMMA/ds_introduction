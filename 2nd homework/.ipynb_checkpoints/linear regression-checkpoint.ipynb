{
 "cells": [
  {
   "cell_type": "markdown",
   "id": "e01884d7",
   "metadata": {},
   "source": [
    "# 2차 과제"
   ]
  },
  {
   "cell_type": "markdown",
   "id": "2d739eb5",
   "metadata": {},
   "source": [
    "## 16조\n",
    "2019112127 박세호, 2020112167 민장규, 2020112089 최지안"
   ]
  },
  {
   "cell_type": "markdown",
   "id": "18ec0bc6",
   "metadata": {},
   "source": [
    "## 데이터 소개\n",
    "사용한 dataset : https://www.kaggle.com/datasets/kukuroo3/used-car-price-dataset-competition-format\n",
    "\n",
    "### Feature 소개\n",
    "- carID : 고유 ID\n",
    "- brand : 회사 브랜드\n",
    "- model : 모델명\n",
    "- year : 출시년도\n",
    "- transmission : 변속기\n",
    "- mileage : 주행거리\n",
    "- fuelType : 연료 유형\n",
    "- tax : 세금\n",
    "- mpg : Miles Per Gallon\n",
    "- engineSize : 엔진 배기량\n",
    "- price : 가격"
   ]
  },
  {
   "cell_type": "markdown",
   "id": "8ba89143",
   "metadata": {},
   "source": [
    "## 개요\n",
    "\n",
    "### 데이터 전처리\n",
    "\n",
    "- 중복값 처리\n",
    "- 결측치 처리\n",
    "- 이상치 처리\n",
    "- 범주형 변수 이진화\n",
    "\n",
    "### Linear Regression without sklearn\n",
    "\n",
    "### Linear Regression with sklearn\n",
    "\n",
    "### Polynomial Regression\n",
    "\n",
    "### Modeling nonlinear relationships in the Car Price Dataset\n",
    "\n",
    "### Model Complexity and Overfitting\n",
    "\n",
    "### Using regularized methods for regression\n",
    "- Ridge\n",
    "- Lasso"
   ]
  },
  {
   "cell_type": "markdown",
   "id": "93fb2145",
   "metadata": {},
   "source": [
    "# Preprocessing"
   ]
  },
  {
   "cell_type": "code",
   "execution_count": 5,
   "id": "efb204b2",
   "metadata": {},
   "outputs": [],
   "source": [
    "import pandas as pd\n",
    "import numpy as np\n",
    "import matplotlib.pyplot as plt\n",
    "from sklearn.model_selection import train_test_split\n",
    "import seaborn as sns"
   ]
  },
  {
   "cell_type": "code",
   "execution_count": 7,
   "id": "e5aa5b17",
   "metadata": {},
   "outputs": [],
   "source": [
    "data = pd.read_csv('used_car_price_dataset.csv')"
   ]
  },
  {
   "cell_type": "code",
   "execution_count": 8,
   "id": "7170f8d2",
   "metadata": {},
   "outputs": [
    {
     "data": {
      "text/html": [
       "<div>\n",
       "<style scoped>\n",
       "    .dataframe tbody tr th:only-of-type {\n",
       "        vertical-align: middle;\n",
       "    }\n",
       "\n",
       "    .dataframe tbody tr th {\n",
       "        vertical-align: top;\n",
       "    }\n",
       "\n",
       "    .dataframe thead th {\n",
       "        text-align: right;\n",
       "    }\n",
       "</style>\n",
       "<table border=\"1\" class=\"dataframe\">\n",
       "  <thead>\n",
       "    <tr style=\"text-align: right;\">\n",
       "      <th></th>\n",
       "      <th>carID</th>\n",
       "      <th>brand</th>\n",
       "      <th>model</th>\n",
       "      <th>year</th>\n",
       "      <th>transmission</th>\n",
       "      <th>mileage</th>\n",
       "      <th>fuelType</th>\n",
       "      <th>tax</th>\n",
       "      <th>mpg</th>\n",
       "      <th>engineSize</th>\n",
       "      <th>price</th>\n",
       "    </tr>\n",
       "  </thead>\n",
       "  <tbody>\n",
       "    <tr>\n",
       "      <th>0</th>\n",
       "      <td>13207</td>\n",
       "      <td>hyundi</td>\n",
       "      <td>Santa Fe</td>\n",
       "      <td>2019</td>\n",
       "      <td>Semi-Auto</td>\n",
       "      <td>4223</td>\n",
       "      <td>Diesel</td>\n",
       "      <td>145</td>\n",
       "      <td>39.8</td>\n",
       "      <td>2.2</td>\n",
       "      <td>31995</td>\n",
       "    </tr>\n",
       "    <tr>\n",
       "      <th>1</th>\n",
       "      <td>17314</td>\n",
       "      <td>vauxhall</td>\n",
       "      <td>GTC</td>\n",
       "      <td>2015</td>\n",
       "      <td>Manual</td>\n",
       "      <td>47870</td>\n",
       "      <td>Diesel</td>\n",
       "      <td>125</td>\n",
       "      <td>60.1</td>\n",
       "      <td>2.0</td>\n",
       "      <td>7700</td>\n",
       "    </tr>\n",
       "    <tr>\n",
       "      <th>2</th>\n",
       "      <td>12342</td>\n",
       "      <td>audi</td>\n",
       "      <td>RS4</td>\n",
       "      <td>2019</td>\n",
       "      <td>Automatic</td>\n",
       "      <td>5151</td>\n",
       "      <td>Petrol</td>\n",
       "      <td>145</td>\n",
       "      <td>29.1</td>\n",
       "      <td>2.9</td>\n",
       "      <td>58990</td>\n",
       "    </tr>\n",
       "    <tr>\n",
       "      <th>3</th>\n",
       "      <td>13426</td>\n",
       "      <td>vw</td>\n",
       "      <td>Scirocco</td>\n",
       "      <td>2016</td>\n",
       "      <td>Automatic</td>\n",
       "      <td>20423</td>\n",
       "      <td>Diesel</td>\n",
       "      <td>30</td>\n",
       "      <td>57.6</td>\n",
       "      <td>2.0</td>\n",
       "      <td>12999</td>\n",
       "    </tr>\n",
       "    <tr>\n",
       "      <th>4</th>\n",
       "      <td>16004</td>\n",
       "      <td>skoda</td>\n",
       "      <td>Scala</td>\n",
       "      <td>2020</td>\n",
       "      <td>Semi-Auto</td>\n",
       "      <td>3569</td>\n",
       "      <td>Petrol</td>\n",
       "      <td>145</td>\n",
       "      <td>47.1</td>\n",
       "      <td>1.0</td>\n",
       "      <td>16990</td>\n",
       "    </tr>\n",
       "  </tbody>\n",
       "</table>\n",
       "</div>"
      ],
      "text/plain": [
       "   carID     brand      model  year transmission  mileage fuelType  tax   mpg  \\\n",
       "0  13207    hyundi   Santa Fe  2019    Semi-Auto     4223   Diesel  145  39.8   \n",
       "1  17314  vauxhall        GTC  2015       Manual    47870   Diesel  125  60.1   \n",
       "2  12342      audi        RS4  2019    Automatic     5151   Petrol  145  29.1   \n",
       "3  13426        vw   Scirocco  2016    Automatic    20423   Diesel   30  57.6   \n",
       "4  16004     skoda      Scala  2020    Semi-Auto     3569   Petrol  145  47.1   \n",
       "\n",
       "   engineSize  price  \n",
       "0         2.2  31995  \n",
       "1         2.0   7700  \n",
       "2         2.9  58990  \n",
       "3         2.0  12999  \n",
       "4         1.0  16990  "
      ]
     },
     "execution_count": 8,
     "metadata": {},
     "output_type": "execute_result"
    }
   ],
   "source": [
    "data.head()"
   ]
  },
  {
   "cell_type": "markdown",
   "id": "3b74ead3",
   "metadata": {},
   "source": [
    "## 중복값 처리"
   ]
  },
  {
   "cell_type": "code",
   "execution_count": null,
   "id": "049cdab7",
   "metadata": {},
   "outputs": [],
   "source": []
  },
  {
   "cell_type": "markdown",
   "id": "5fd87edb",
   "metadata": {},
   "source": [
    "## 결측치 처리"
   ]
  },
  {
   "cell_type": "code",
   "execution_count": null,
   "id": "f7009cfb",
   "metadata": {},
   "outputs": [],
   "source": []
  },
  {
   "cell_type": "markdown",
   "id": "6d93267d",
   "metadata": {},
   "source": [
    "## 이상치 처리"
   ]
  },
  {
   "cell_type": "code",
   "execution_count": null,
   "id": "3c1dd6ee",
   "metadata": {},
   "outputs": [],
   "source": []
  },
  {
   "cell_type": "markdown",
   "id": "51b6fdb3",
   "metadata": {},
   "source": [
    "## 범주형 변수 이진화"
   ]
  },
  {
   "cell_type": "code",
   "execution_count": null,
   "id": "34609e3d",
   "metadata": {},
   "outputs": [],
   "source": []
  },
  {
   "cell_type": "markdown",
   "id": "b5ea0a29",
   "metadata": {},
   "source": [
    "# Linear Regression"
   ]
  },
  {
   "cell_type": "code",
   "execution_count": 2,
   "id": "17246a9e",
   "metadata": {},
   "outputs": [],
   "source": [
    "from sklearn.linear_model import LinearRegression\n",
    "from sklearn.metrics import r2_score\n",
    "from sklearn.metrics import mean_squared_error"
   ]
  },
  {
   "cell_type": "markdown",
   "id": "1c085ec3",
   "metadata": {},
   "source": [
    "## Linear Regression without sklearn"
   ]
  },
  {
   "cell_type": "code",
   "execution_count": null,
   "id": "63d18060",
   "metadata": {},
   "outputs": [],
   "source": []
  },
  {
   "cell_type": "markdown",
   "id": "b377cd28",
   "metadata": {},
   "source": [
    "## Linear Regression with sklearn"
   ]
  },
  {
   "cell_type": "code",
   "execution_count": null,
   "id": "95ac7bc2",
   "metadata": {},
   "outputs": [],
   "source": []
  },
  {
   "cell_type": "markdown",
   "id": "4fa71f0b",
   "metadata": {},
   "source": [
    "# Polynomial Regression"
   ]
  },
  {
   "cell_type": "code",
   "execution_count": 3,
   "id": "2a38c6c5",
   "metadata": {},
   "outputs": [],
   "source": [
    "from sklearn.preprocessing import PolynomialFeatures"
   ]
  },
  {
   "cell_type": "markdown",
   "id": "6e656ae0",
   "metadata": {},
   "source": [
    "# Modeling nonlinear relationships in the Car Price Dataset"
   ]
  },
  {
   "cell_type": "code",
   "execution_count": null,
   "id": "aa6e32da",
   "metadata": {},
   "outputs": [],
   "source": []
  },
  {
   "cell_type": "markdown",
   "id": "e3a244a1",
   "metadata": {},
   "source": [
    "# Model Complexity and Overfitting"
   ]
  },
  {
   "cell_type": "code",
   "execution_count": null,
   "id": "4fc97fac",
   "metadata": {},
   "outputs": [],
   "source": []
  },
  {
   "cell_type": "markdown",
   "id": "52cf2e7b",
   "metadata": {},
   "source": [
    "# Using regularized methods for regression"
   ]
  },
  {
   "cell_type": "code",
   "execution_count": 4,
   "id": "1087aeec",
   "metadata": {},
   "outputs": [],
   "source": [
    "from sklearn.linear_model import Ridge\n",
    "from sklearn.linear_model import Lasso"
   ]
  },
  {
   "cell_type": "markdown",
   "id": "cf718459",
   "metadata": {},
   "source": [
    "## Ridge"
   ]
  },
  {
   "cell_type": "code",
   "execution_count": null,
   "id": "40c6a44a",
   "metadata": {},
   "outputs": [],
   "source": []
  },
  {
   "cell_type": "markdown",
   "id": "7da6e5e5",
   "metadata": {},
   "source": [
    "## Lasso"
   ]
  },
  {
   "cell_type": "code",
   "execution_count": null,
   "id": "6328c82a",
   "metadata": {},
   "outputs": [],
   "source": []
  }
 ],
 "metadata": {
  "kernelspec": {
   "display_name": "Python 3 (ipykernel)",
   "language": "python",
   "name": "python3"
  },
  "language_info": {
   "codemirror_mode": {
    "name": "ipython",
    "version": 3
   },
   "file_extension": ".py",
   "mimetype": "text/x-python",
   "name": "python",
   "nbconvert_exporter": "python",
   "pygments_lexer": "ipython3",
   "version": "3.11.4"
  }
 },
 "nbformat": 4,
 "nbformat_minor": 5
}
