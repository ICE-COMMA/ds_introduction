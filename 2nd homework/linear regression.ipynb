{
 "cells": [
  {
   "cell_type": "markdown",
   "id": "cdbc93c3",
   "metadata": {},
   "source": [
    "# 2차 과제"
   ]
  },
  {
   "cell_type": "markdown",
   "id": "57ea633a",
   "metadata": {},
   "source": [
    "## 16조\n",
    "2019112127 박세호, 2020112167 민장규, 2020112089 최지안"
   ]
  },
  {
   "cell_type": "markdown",
   "id": "563ba913",
   "metadata": {},
   "source": [
    "## 데이터 소개\n",
    "사용한 dataset : https://www.kaggle.com/datasets/kukuroo3/used-car-price-dataset-competition-format\n",
    "\n",
    "### Feature 소개\n",
    "- carID : 고유 ID\n",
    "- brand : 회사 브랜드\n",
    "- model : 모델명\n",
    "- year : 출시년도\n",
    "- transmission : 변속기\n",
    "- mileage : 주행거리\n",
    "- fuelType : 연료 유형\n",
    "- tax : 세금\n",
    "- mpg : Miles Per Gallon\n",
    "- engineSize : 엔진 배기량\n",
    "- price : 가격"
   ]
  },
  {
   "cell_type": "markdown",
   "id": "32e2e150",
   "metadata": {},
   "source": [
    "## 개요\n",
    "\n",
    "### 데이터 전처리\n",
    "\n",
    "- 중복값 처리\n",
    "- 결측치 처리\n",
    "- 이상치 처리\n",
    "- 범주형 변수 이진화\n",
    "\n",
    "### Linear Regression without sklearn\n",
    "\n",
    "### Linear Regression with sklearn\n",
    "\n",
    "### Polynomial Regression\n",
    "\n",
    "### Modeling nonlinear relationships in the Car Price Dataset\n",
    "\n",
    "### Model Complexity and Overfitting\n",
    "\n",
    "### Using regularized methods for regression\n",
    "- Ridge\n",
    "- Lasso"
   ]
  },
  {
   "cell_type": "markdown",
   "id": "13729807",
   "metadata": {},
   "source": [
    "# Preprocessing"
   ]
  },
  {
   "cell_type": "code",
   "execution_count": 1,
   "id": "2670d816",
   "metadata": {},
   "outputs": [],
   "source": [
    "import pandas as pd\n",
    "import numpy as np\n",
    "import matplotlib.pyplot as plt\n",
    "from sklearn.model_selection import train_test_split\n",
    "import seaborn as sns\n"
   ]
  },
  {
   "cell_type": "markdown",
   "id": "671d2c0e",
   "metadata": {},
   "source": [
    "## 중복값 처리"
   ]
  },
  {
   "cell_type": "code",
   "execution_count": null,
   "id": "e8d0fc7f",
   "metadata": {},
   "outputs": [],
   "source": []
  },
  {
   "cell_type": "markdown",
   "id": "c52c4dbc",
   "metadata": {},
   "source": [
    "## 결측치 처리"
   ]
  },
  {
   "cell_type": "code",
   "execution_count": null,
   "id": "6537e26c",
   "metadata": {},
   "outputs": [],
   "source": []
  },
  {
   "cell_type": "markdown",
   "id": "3360845f",
   "metadata": {},
   "source": [
    "## 이상치 처리"
   ]
  },
  {
   "cell_type": "code",
   "execution_count": null,
   "id": "d2cd0d79",
   "metadata": {},
   "outputs": [],
   "source": []
  },
  {
   "cell_type": "markdown",
   "id": "67efff05",
   "metadata": {},
   "source": [
    "## 범주형 변수 이진화"
   ]
  },
  {
   "cell_type": "code",
   "execution_count": null,
   "id": "4f7c728a",
   "metadata": {},
   "outputs": [],
   "source": []
  },
  {
   "cell_type": "markdown",
   "id": "4048b7d7",
   "metadata": {},
   "source": [
    "# Linear Regression"
   ]
  },
  {
   "cell_type": "code",
   "execution_count": 2,
   "id": "c8e0cd63",
   "metadata": {},
   "outputs": [],
   "source": [
    "from sklearn.linear_model import LinearRegression\n",
    "from sklearn.metrics import r2_score\n",
    "from sklearn.metrics import mean_squared_error"
   ]
  },
  {
   "cell_type": "markdown",
   "id": "88fc2c41",
   "metadata": {},
   "source": [
    "## Linear Regression without sklearn"
   ]
  },
  {
   "cell_type": "code",
   "execution_count": null,
   "id": "93ccbade",
   "metadata": {},
   "outputs": [],
   "source": []
  },
  {
   "cell_type": "markdown",
   "id": "42f42622",
   "metadata": {},
   "source": [
    "## Linear Regression with sklearn"
   ]
  },
  {
   "cell_type": "code",
   "execution_count": null,
   "id": "de9a9c23",
   "metadata": {},
   "outputs": [],
   "source": []
  },
  {
   "cell_type": "markdown",
   "id": "2f8d6981",
   "metadata": {},
   "source": [
    "# Polynomial Regression"
   ]
  },
  {
   "cell_type": "code",
   "execution_count": 3,
   "id": "7553bfb9",
   "metadata": {},
   "outputs": [],
   "source": [
    "from sklearn.preprocessing import PolynomialFeatures"
   ]
  },
  {
   "cell_type": "markdown",
   "id": "9704611b",
   "metadata": {},
   "source": [
    "# Modeling nonlinear relationships in the Car Price Dataset"
   ]
  },
  {
   "cell_type": "code",
   "execution_count": null,
   "id": "ae42f6a9",
   "metadata": {},
   "outputs": [],
   "source": []
  },
  {
   "cell_type": "markdown",
   "id": "4ed2b3c8",
   "metadata": {},
   "source": [
    "# Model Complexity and Overfitting"
   ]
  },
  {
   "cell_type": "code",
   "execution_count": null,
   "id": "15cbb2f9",
   "metadata": {},
   "outputs": [],
   "source": []
  },
  {
   "cell_type": "markdown",
   "id": "5519d194",
   "metadata": {},
   "source": [
    "# Using regularized methods for regression"
   ]
  },
  {
   "cell_type": "code",
   "execution_count": 4,
   "id": "6092e463",
   "metadata": {},
   "outputs": [],
   "source": [
    "from sklearn.linear_model import Ridge\n",
    "from sklearn.linear_model import Lasso"
   ]
  },
  {
   "cell_type": "markdown",
   "id": "1aba1c2c",
   "metadata": {},
   "source": [
    "## Ridge"
   ]
  },
  {
   "cell_type": "code",
   "execution_count": null,
   "id": "5041bfd5",
   "metadata": {},
   "outputs": [],
   "source": []
  },
  {
   "cell_type": "markdown",
   "id": "5d4d759c",
   "metadata": {},
   "source": [
    "## Lasso"
   ]
  },
  {
   "cell_type": "code",
   "execution_count": null,
   "id": "b6fcc0e7",
   "metadata": {},
   "outputs": [],
   "source": []
  }
 ],
 "metadata": {
  "kernelspec": {
   "display_name": "Python 3 (ipykernel)",
   "language": "python",
   "name": "python3"
  },
  "language_info": {
   "codemirror_mode": {
    "name": "ipython",
    "version": 3
   },
   "file_extension": ".py",
   "mimetype": "text/x-python",
   "name": "python",
   "nbconvert_exporter": "python",
   "pygments_lexer": "ipython3",
   "version": "3.11.4"
  }
 },
 "nbformat": 4,
 "nbformat_minor": 5
}
