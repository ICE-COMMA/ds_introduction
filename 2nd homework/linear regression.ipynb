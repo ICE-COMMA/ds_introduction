{
 "cells": [
  {
   "cell_type": "markdown",
   "id": "2890b03d",
   "metadata": {},
   "source": [
    "# 2차 과제"
   ]
  },
  {
   "cell_type": "markdown",
   "id": "a347cb19",
   "metadata": {},
   "source": [
    "## 16조\n",
    "2019112127 박세호, 2020112167 민장규, 2020112089 최지안"
   ]
  },
  {
   "cell_type": "markdown",
   "id": "fa72d848",
   "metadata": {},
   "source": [
    "## 데이터 소개\n",
    "사용한 dataset : https://www.kaggle.com/datasets/kukuroo3/used-car-price-dataset-competition-format\n",
    "\n",
    "### Feature 소개\n",
    "- carID : 고유 ID\n",
    "- brand : 회사 브랜드\n",
    "- model : 모델명\n",
    "- year : 출시년도\n",
    "- transmission : 변속기\n",
    "- mileage : 주행거리\n",
    "- fuelType : 연료 유형\n",
    "- tax : 세금\n",
    "- mpg : Miles Per Gallon\n",
    "- engineSize : 엔진 배기량\n",
    "- price : 가격"
   ]
  },
  {
   "cell_type": "markdown",
   "id": "f87b7a83",
   "metadata": {},
   "source": [
    "## 개요\n",
    "\n",
    "### 데이터 전처리\n",
    "\n",
    "- 중복값 처리\n",
    "- 결측치 처리\n",
    "- 이상치 처리\n",
    "- 범주형 변수 이진화\n",
    "\n",
    "### Linear Regression without sklearn\n",
    "\n",
    "### Linear Regression with sklearn\n",
    "\n",
    "### Polynomial Regression\n",
    "\n",
    "### Modeling nonlinear relationships in the Car Price Dataset\n",
    "\n",
    "### Model Complexity and Overfitting\n",
    "\n",
    "### Using regularized methods for regression\n",
    "- Ridge\n",
    "- Lasso"
   ]
  },
  {
   "cell_type": "markdown",
   "id": "bdf4102e",
   "metadata": {},
   "source": [
    "# Preprocessing"
   ]
  },
  {
   "cell_type": "markdown",
   "id": "0d88fea5",
   "metadata": {},
   "source": [
    "## 중복값 처리"
   ]
  },
  {
   "cell_type": "code",
   "execution_count": null,
   "id": "08fb58c6",
   "metadata": {},
   "outputs": [],
   "source": []
  },
  {
   "cell_type": "markdown",
   "id": "acc2abf2",
   "metadata": {},
   "source": [
    "## 결측치 처리"
   ]
  },
  {
   "cell_type": "code",
   "execution_count": null,
   "id": "fbba68f2",
   "metadata": {},
   "outputs": [],
   "source": []
  },
  {
   "cell_type": "markdown",
   "id": "342365f3",
   "metadata": {},
   "source": [
    "## 이상치 처리"
   ]
  },
  {
   "cell_type": "code",
   "execution_count": null,
   "id": "018a11d5",
   "metadata": {},
   "outputs": [],
   "source": []
  },
  {
   "cell_type": "markdown",
   "id": "ba7045b9",
   "metadata": {},
   "source": [
    "## 범주형 변수 이진화"
   ]
  },
  {
   "cell_type": "code",
   "execution_count": null,
   "id": "b3508d6c",
   "metadata": {},
   "outputs": [],
   "source": []
  },
  {
   "cell_type": "markdown",
   "id": "d1f0565b",
   "metadata": {},
   "source": [
    "# Linear Regression"
   ]
  },
  {
   "cell_type": "markdown",
   "id": "5760ca19",
   "metadata": {},
   "source": [
    "## Linear Regression without sklearn"
   ]
  },
  {
   "cell_type": "code",
   "execution_count": null,
   "id": "00bbe05c",
   "metadata": {},
   "outputs": [],
   "source": []
  },
  {
   "cell_type": "markdown",
   "id": "4e0c5940",
   "metadata": {},
   "source": [
    "## Linear Regression with sklearn"
   ]
  },
  {
   "cell_type": "code",
   "execution_count": null,
   "id": "fa815430",
   "metadata": {},
   "outputs": [],
   "source": []
  },
  {
   "cell_type": "markdown",
   "id": "dcf4c2c6",
   "metadata": {},
   "source": [
    "# Polynomial Regression"
   ]
  },
  {
   "cell_type": "code",
   "execution_count": null,
   "id": "f60467f8",
   "metadata": {},
   "outputs": [],
   "source": []
  },
  {
   "cell_type": "markdown",
   "id": "2e49da4b",
   "metadata": {},
   "source": [
    "# Modeling nonlinear relationships in the Car Price Dataset"
   ]
  },
  {
   "cell_type": "code",
   "execution_count": null,
   "id": "bd1820f8",
   "metadata": {},
   "outputs": [],
   "source": []
  },
  {
   "cell_type": "markdown",
   "id": "fb454d18",
   "metadata": {},
   "source": [
    "# Model Complexity and Overfitting"
   ]
  },
  {
   "cell_type": "code",
   "execution_count": null,
   "id": "62d11bb4",
   "metadata": {},
   "outputs": [],
   "source": []
  },
  {
   "cell_type": "markdown",
   "id": "ecab6392",
   "metadata": {},
   "source": [
    "# Using regularized methods for regression"
   ]
  },
  {
   "cell_type": "markdown",
   "id": "bdf3feed",
   "metadata": {},
   "source": [
    "## Ridge"
   ]
  },
  {
   "cell_type": "code",
   "execution_count": null,
   "id": "cc03ee19",
   "metadata": {},
   "outputs": [],
   "source": []
  },
  {
   "cell_type": "markdown",
   "id": "08c3ad41",
   "metadata": {},
   "source": [
    "## Lasso"
   ]
  },
  {
   "cell_type": "code",
   "execution_count": null,
   "id": "45607715",
   "metadata": {},
   "outputs": [],
   "source": []
  }
 ],
 "metadata": {
  "kernelspec": {
   "display_name": "Python 3 (ipykernel)",
   "language": "python",
   "name": "python3"
  },
  "language_info": {
   "codemirror_mode": {
    "name": "ipython",
    "version": 3
   },
   "file_extension": ".py",
   "mimetype": "text/x-python",
   "name": "python",
   "nbconvert_exporter": "python",
   "pygments_lexer": "ipython3",
   "version": "3.11.4"
  }
 },
 "nbformat": 4,
 "nbformat_minor": 5
}
